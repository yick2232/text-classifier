{
 "cells": [
  {
   "cell_type": "markdown",
   "source": [
    "# Logistic regression Classifier"
   ],
   "metadata": {
    "collapsed": false,
    "pycharm": {
     "name": "#%% md\n"
    }
   }
  },
  {
   "cell_type": "markdown",
   "source": [
    "### load data"
   ],
   "metadata": {
    "collapsed": false,
    "pycharm": {
     "name": "#%% md\n"
    }
   }
  },
  {
   "cell_type": "code",
   "execution_count": 6,
   "outputs": [
    {
     "name": "stdout",
     "output_type": "stream",
     "text": [
      "train_df shape: (8718, 2)\n",
      "test_df shape: (741, 2)\n"
     ]
    }
   ],
   "source": [
    "import os\n",
    "import pandas as pd\n",
    "data_dir = \"/home/yick/Projects/github.com/text-classifier/data\"\n",
    "train_file = os.path.join(data_dir, \"train_data.csv\")\n",
    "test_file = os.path.join(data_dir, \"test_data.csv\")\n",
    "train_df = pd.read_csv(train_file)\n",
    "test_df = pd.read_csv(test_file)\n",
    "print(f\"train_df shape: {train_df.shape}\")\n",
    "print(f\"test_df shape: {test_df.shape}\")"
   ],
   "metadata": {
    "collapsed": false,
    "pycharm": {
     "name": "#%%\n"
    }
   }
  },
  {
   "cell_type": "markdown",
   "source": [
    "### make label encoder"
   ],
   "metadata": {
    "collapsed": false
   }
  },
  {
   "cell_type": "code",
   "execution_count": 7,
   "outputs": [],
   "source": [
    "from sklearn.preprocessing import LabelEncoder\n",
    "label_encoder = LabelEncoder()\n",
    "labels = label_encoder.fit_transform(train_df[\"label\"].tolist())\n",
    "num_labels = len(label_encoder.classes_)"
   ],
   "metadata": {
    "collapsed": false,
    "pycharm": {
     "name": "#%%\n"
    }
   }
  },
  {
   "cell_type": "markdown",
   "source": [
    "### feature extraction"
   ],
   "metadata": {
    "collapsed": false,
    "pycharm": {
     "name": "#%% md\n"
    }
   }
  },
  {
   "cell_type": "code",
   "execution_count": 8,
   "outputs": [
    {
     "name": "stdout",
     "output_type": "stream",
     "text": [
      "tfidf_vector shape: (8718, 5762)\n"
     ]
    }
   ],
   "source": [
    "import jieba\n",
    "from sklearn.feature_extraction.text import CountVectorizer\n",
    "from sklearn.feature_extraction.text import TfidfTransformer\n",
    "count_transformer = CountVectorizer(\n",
    "    tokenizer=lambda d:[w for w in jieba.cut(d)],\n",
    "    analyzer=\"word\",\n",
    "    min_df=2,\n",
    "    max_df=0.5,\n",
    "    token_pattern=r\"(?u)\\b\\w+\\b\",\n",
    "    max_features=20000,\n",
    "    ngram_range=(1, 2)\n",
    ")\n",
    "tfidf_transformer = TfidfTransformer()\n",
    "count_vector = count_transformer.fit_transform(train_df[\"text\"].tolist())\n",
    "tfidf_vector = tfidf_transformer.fit_transform(count_vector)\n",
    "print(f\"tfidf_vector shape: {tfidf_vector.shape}\")"
   ],
   "metadata": {
    "collapsed": false,
    "pycharm": {
     "name": "#%%\n"
    }
   }
  },
  {
   "cell_type": "markdown",
   "source": [
    "### model train"
   ],
   "metadata": {
    "collapsed": false,
    "pycharm": {
     "name": "#%% md\n"
    }
   }
  },
  {
   "cell_type": "code",
   "execution_count": 9,
   "outputs": [
    {
     "data": {
      "text/plain": "LogisticRegression(C=15, class_weight='balanced', solver='liblinear')"
     },
     "execution_count": 9,
     "metadata": {},
     "output_type": "execute_result"
    }
   ],
   "source": [
    "from sklearn.linear_model import LogisticRegression\n",
    "classifier=LogisticRegression(\n",
    "    solver=\"liblinear\",\n",
    "    dual=False,\n",
    "    C=15,\n",
    "    max_iter=100,\n",
    "    verbose=0,\n",
    "    class_weight=\"balanced\"\n",
    ")\n",
    "classifier.fit(tfidf_vector, labels)"
   ],
   "metadata": {
    "collapsed": false,
    "pycharm": {
     "name": "#%%\n"
    }
   }
  },
  {
   "cell_type": "markdown",
   "source": [
    "### model test"
   ],
   "metadata": {
    "collapsed": false,
    "pycharm": {
     "name": "#%% md\n"
    }
   }
  },
  {
   "cell_type": "code",
   "execution_count": 10,
   "outputs": [
    {
     "name": "stdout",
     "output_type": "stream",
     "text": [
      "                precision    recall  f1-score   support\n",
      "\n",
      "           上征信     1.0000    1.0000    1.0000         1\n",
      "           不专业     0.0000    0.0000    0.0000         0\n",
      "           不舒服     0.0000    0.0000    0.0000         0\n",
      "         之前被拒了     0.0000    0.0000    0.0000         1\n",
      "          人工服务     1.0000    0.4286    0.6000         7\n",
      "          什么平台     0.8857    1.0000    0.9394        31\n",
      "       会不会放款失败     0.0000    0.0000    0.0000         4\n",
      "           利息高     1.0000    0.1667    0.2857         6\n",
      "        号码是哪来的     0.0000    0.0000    0.0000         0\n",
      "         否定/拒绝     0.7952    0.7857    0.7904        84\n",
      "       咨询APP名字     0.6250    1.0000    0.7692         5\n",
      "       咨询利息/费用     0.8857    0.8378    0.8611        37\n",
      "        咨询提前还款     1.0000    1.0000    1.0000         1\n",
      "          咨询操作     0.8750    0.4667    0.6087        30\n",
      "        咨询放款速度     0.3333    0.5000    0.4000         4\n",
      "       咨询额度-通用     0.7188    0.8519    0.7797        54\n",
      "     嗯啊哦额/模糊回答     0.5333    0.8889    0.6667         9\n",
      "    在忙/在开会/在开车     0.7778    0.7000    0.7368        10\n",
      "        已经申请到了     0.1429    1.0000    0.2500         1\n",
      "          征信不好     1.0000    1.0000    1.0000         1\n",
      "          怎么提额     0.0000    0.0000    0.0000         0\n",
      "           恢复词     0.6250    0.4000    0.4878        25\n",
      "          打款渠道     0.0000    0.0000    0.0000         1\n",
      "     打过了/不要打电话     0.6250    0.8333    0.7143         6\n",
      "           打错了     0.6667    1.0000    0.8000         2\n",
      "            投诉     1.0000    0.7619    0.8649        21\n",
      "       无法登陆APP     0.2500    1.0000    0.4000         2\n",
      "有信用问题/逾期记录能借款吗     0.0000    0.0000    0.0000         4\n",
      "            期数     0.5000    0.5000    0.5000         2\n",
      "        没通过怎么办     0.8000    0.4000    0.5333        30\n",
      "       犹豫中/考虑下     0.7273    1.0000    0.8421         8\n",
      "          申请条件     0.0000    0.0000    0.0000         8\n",
      "          电话号码     0.7500    0.7500    0.7500         4\n",
      "            肯定     0.8915    0.9504    0.9200       242\n",
      "          调戏AI     0.0000    0.0000    0.0000         0\n",
      "         质疑机器人     0.8000    1.0000    0.8889         4\n",
      "        运营商提示音     0.8723    0.9318    0.9011        44\n",
      "           通过率     0.0000    0.0000    0.0000         2\n",
      "            重复     0.8750    0.7368    0.8000        19\n",
      "          额度太少     0.6667    0.3636    0.4706        11\n",
      "          额度循环     0.0000    0.0000    0.0000         1\n",
      "          额度用途     0.0000    0.0000    0.0000         1\n",
      "         骗子/骗人     0.7222    0.7222    0.7222        18\n",
      "\n",
      "      accuracy                         0.7868       741\n",
      "     macro avg     0.5196    0.5343    0.4950       741\n",
      "  weighted avg     0.8037    0.7868    0.7810       741\n",
      "\n"
     ]
    },
    {
     "name": "stderr",
     "output_type": "stream",
     "text": [
      "/home/yick/Anaconda3/envs/tf-2.4/lib/python3.9/site-packages/sklearn/metrics/_classification.py:1318: UndefinedMetricWarning: Precision and F-score are ill-defined and being set to 0.0 in labels with no predicted samples. Use `zero_division` parameter to control this behavior.\n",
      "  _warn_prf(average, modifier, msg_start, len(result))\n",
      "/home/yick/Anaconda3/envs/tf-2.4/lib/python3.9/site-packages/sklearn/metrics/_classification.py:1318: UndefinedMetricWarning: Recall and F-score are ill-defined and being set to 0.0 in labels with no true samples. Use `zero_division` parameter to control this behavior.\n",
      "  _warn_prf(average, modifier, msg_start, len(result))\n",
      "/home/yick/Anaconda3/envs/tf-2.4/lib/python3.9/site-packages/sklearn/metrics/_classification.py:1318: UndefinedMetricWarning: Precision and F-score are ill-defined and being set to 0.0 in labels with no predicted samples. Use `zero_division` parameter to control this behavior.\n",
      "  _warn_prf(average, modifier, msg_start, len(result))\n",
      "/home/yick/Anaconda3/envs/tf-2.4/lib/python3.9/site-packages/sklearn/metrics/_classification.py:1318: UndefinedMetricWarning: Recall and F-score are ill-defined and being set to 0.0 in labels with no true samples. Use `zero_division` parameter to control this behavior.\n",
      "  _warn_prf(average, modifier, msg_start, len(result))\n",
      "/home/yick/Anaconda3/envs/tf-2.4/lib/python3.9/site-packages/sklearn/metrics/_classification.py:1318: UndefinedMetricWarning: Precision and F-score are ill-defined and being set to 0.0 in labels with no predicted samples. Use `zero_division` parameter to control this behavior.\n",
      "  _warn_prf(average, modifier, msg_start, len(result))\n",
      "/home/yick/Anaconda3/envs/tf-2.4/lib/python3.9/site-packages/sklearn/metrics/_classification.py:1318: UndefinedMetricWarning: Recall and F-score are ill-defined and being set to 0.0 in labels with no true samples. Use `zero_division` parameter to control this behavior.\n",
      "  _warn_prf(average, modifier, msg_start, len(result))\n"
     ]
    }
   ],
   "source": [
    "test_count_vector = count_transformer.transform(test_df[\"text\"].tolist())\n",
    "test_tfidf_vector = tfidf_transformer.transform(test_count_vector)\n",
    "preds = classifier.predict(test_tfidf_vector)\n",
    "from sklearn.metrics import classification_report\n",
    "pred_labels = label_encoder.inverse_transform(preds)\n",
    "true_labels = test_df[\"label\"].tolist()\n",
    "report = classification_report(true_labels, pred_labels,  digits=4)\n",
    "print(report)"
   ],
   "metadata": {
    "collapsed": false,
    "pycharm": {
     "name": "#%%\n"
    }
   }
  }
 ],
 "metadata": {
  "kernelspec": {
   "name": "tf-2.4",
   "language": "python",
   "display_name": "tf-2.4"
  },
  "language_info": {
   "codemirror_mode": {
    "name": "ipython",
    "version": 2
   },
   "file_extension": ".py",
   "mimetype": "text/x-python",
   "name": "python",
   "nbconvert_exporter": "python",
   "pygments_lexer": "ipython2",
   "version": "2.7.6"
  }
 },
 "nbformat": 4,
 "nbformat_minor": 0
}